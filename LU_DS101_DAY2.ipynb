{
 "cells": [
  {
   "cell_type": "markdown",
   "metadata": {},
   "source": [
    "# ANSWER 1:"
   ]
  },
  {
   "cell_type": "code",
   "execution_count": null,
   "metadata": {},
   "outputs": [],
   "source": [
    "lst = []\n",
    "for i in range(0,10):\n",
    "    num = int(input())\n",
    "    if num % 2 == 0:\n",
    "        lst.append(num)\n",
    "\n",
    "print(\"\")\n",
    "print(lst)"
   ]
  },
  {
   "cell_type": "markdown",
   "metadata": {},
   "source": [
    "# ANSWER 2:"
   ]
  },
  {
   "cell_type": "code",
   "execution_count": null,
   "metadata": {},
   "outputs": [],
   "source": [
    "lst = [10, [1,2], 'hello', 'world']\n",
    "lst  # prints list"
   ]
  },
  {
   "cell_type": "code",
   "execution_count": null,
   "metadata": {},
   "outputs": [],
   "source": [
    "lst.append('python')  # adds the given value to the list\n",
    "lst"
   ]
  },
  {
   "cell_type": "code",
   "execution_count": null,
   "metadata": {},
   "outputs": [],
   "source": [
    "lst.count(10)  # counts the number of times the given element is there in the list"
   ]
  },
  {
   "cell_type": "code",
   "execution_count": null,
   "metadata": {},
   "outputs": [],
   "source": [
    "lst.pop()  # pops the last element\n",
    "lst"
   ]
  },
  {
   "cell_type": "code",
   "execution_count": null,
   "metadata": {},
   "outputs": [],
   "source": [
    "lst.remove(10)  # removes the element\n",
    "lst"
   ]
  },
  {
   "cell_type": "code",
   "execution_count": null,
   "metadata": {},
   "outputs": [],
   "source": [
    "lst1= lst.copy()  # copies the exact same list to the other variable given\n",
    "lst1"
   ]
  },
  {
   "cell_type": "markdown",
   "metadata": {},
   "source": [
    "# ANSWER 3:"
   ]
  },
  {
   "cell_type": "code",
   "execution_count": null,
   "metadata": {},
   "outputs": [],
   "source": [
    "n = int(input())\n",
    "d = dict()\n",
    "\n",
    "for i in range(1, n+1):\n",
    "    d[i] = i*i\n",
    "\n",
    "print(d)"
   ]
  },
  {
   "cell_type": "markdown",
   "metadata": {},
   "source": [
    "# ANSWER 4:"
   ]
  },
  {
   "cell_type": "code",
   "execution_count": null,
   "metadata": {},
   "outputs": [
    {
     "name": "stdout",
     "output_type": "stream",
     "text": [
      "4\n",
      "5\n",
      "3\n",
      "3\n",
      "2\n"
     ]
    }
   ],
   "source": [
    "from math import sqrt\n",
    "lst = []\n",
    "position = [0,0]\n",
    "while True:\n",
    "    a = input()\n",
    "    if not a:\n",
    "        break\n",
    "    lst.append(a)\n",
    "for i in lst:\n",
    "    if 'UP' in i:\n",
    "        position[0] -= int(i.strip('UP '))\n",
    "    if 'DOWN' in i:\n",
    "        position[0] += int(i.strip('DOWN '))\n",
    "    if 'LEFT' in i:\n",
    "        position[1] -= int(i.strip('LEFT '))\n",
    "    if 'RIGHT' in i:\n",
    "        position[1] += int(i.strip('RIGHT '))\n",
    "print(round(sqrt(position[1] ** 2 + position[0] ** 2)))"
   ]
  },
  {
   "cell_type": "code",
   "execution_count": null,
   "metadata": {},
   "outputs": [],
   "source": []
  }
 ],
 "metadata": {
  "kernelspec": {
   "display_name": "Python 3",
   "language": "python",
   "name": "python3"
  }
 },
 "nbformat": 4,
 "nbformat_minor": 4
}
