{
 "cells": [
  {
   "cell_type": "markdown",
   "metadata": {},
   "source": [
    "# ANSWER 1:"
   ]
  },
  {
   "cell_type": "markdown",
   "metadata": {},
   "source": [
    "B. RAINBOW"
   ]
  },
  {
   "cell_type": "markdown",
   "metadata": {},
   "source": [
    "# ANSWER 2:"
   ]
  },
  {
   "cell_type": "code",
   "execution_count": 1,
   "metadata": {},
   "outputs": [
    {
     "name": "stdout",
     "output_type": "stream",
     "text": [
      "LETS UPGRADE\n"
     ]
    }
   ],
   "source": [
    "word = 'lets upgrade'\n",
    "print(word.upper())"
   ]
  },
  {
   "cell_type": "markdown",
   "metadata": {},
   "source": [
    "# ANSWER 3:"
   ]
  },
  {
   "cell_type": "code",
   "execution_count": 2,
   "metadata": {},
   "outputs": [
    {
     "name": "stdout",
     "output_type": "stream",
     "text": [
      "20\n",
      "30\n",
      "Profit\n",
      "\n",
      "20\n",
      "10\n",
      "Loss\n",
      "\n",
      "20\n",
      "20\n",
      "Neither\n",
      "\n",
      "19\n",
      "19\n",
      "Neither\n",
      "\n",
      "23\n",
      "07\n",
      "Loss\n",
      "\n",
      "19\n",
      "95\n",
      "Profit\n",
      "\n"
     ]
    }
   ],
   "source": [
    "for i in range (0,6):\n",
    "    cost_price = input()\n",
    "    sell_price = input()\n",
    "    if cost_price > sell_price:\n",
    "        print(\"Loss\")\n",
    "    elif cost_price == sell_price:\n",
    "        print('Neither')\n",
    "    else:\n",
    "        print('Profit')\n",
    "    print(\"\")"
   ]
  },
  {
   "cell_type": "markdown",
   "metadata": {},
   "source": [
    "# ANSWER 4:"
   ]
  },
  {
   "cell_type": "code",
   "execution_count": 1,
   "metadata": {},
   "outputs": [
    {
     "name": "stdout",
     "output_type": "stream",
     "text": [
      "20\n",
      "1600\n",
      "\n",
      "50\n",
      "4000\n",
      "\n",
      "72\n",
      "5760\n",
      "\n",
      "7\n",
      "560\n",
      "\n",
      "35\n",
      "2800\n",
      "\n",
      "23\n",
      "1840\n",
      "\n",
      "95\n",
      "7600\n",
      "\n",
      "18\n",
      "1440\n",
      "\n"
     ]
    }
   ],
   "source": [
    "for i in range(0,8):\n",
    "    euros = input()\n",
    "    rs = int(euros)*int(80)\n",
    "    print(rs)\n",
    "    print(\"\")"
   ]
  }
 ],
 "metadata": {
  "kernelspec": {
   "display_name": "Python 3",
   "language": "python",
   "name": "python3"
  },
  "language_info": {
   "codemirror_mode": {
    "name": "ipython",
    "version": 3
   },
   "file_extension": ".py",
   "mimetype": "text/x-python",
   "name": "python",
   "nbconvert_exporter": "python",
   "pygments_lexer": "ipython3",
   "version": "3.8.3"
  }
 },
 "nbformat": 4,
 "nbformat_minor": 4
}
