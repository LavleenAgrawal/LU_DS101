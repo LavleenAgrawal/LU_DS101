{
 "cells": [
  {
   "cell_type": "markdown",
   "metadata": {},
   "source": [
    "# ANSWER 1:"
   ]
  },
  {
   "cell_type": "code",
   "execution_count": 3,
   "metadata": {},
   "outputs": [],
   "source": [
    "import numpy as np"
   ]
  },
  {
   "cell_type": "code",
   "execution_count": 6,
   "metadata": {},
   "outputs": [
    {
     "name": "stdout",
     "output_type": "stream",
     "text": [
      "[ 2  5  8 11 14 17 20 23 26 29 32 35 38 41 44 47 50]\n"
     ]
    }
   ],
   "source": [
    "arr=np.array(range(2,51,3))\n",
    "print(arr)"
   ]
  },
  {
   "cell_type": "markdown",
   "metadata": {},
   "source": [
    "# ANSWER 2:"
   ]
  },
  {
   "cell_type": "code",
   "execution_count": 15,
   "metadata": {},
   "outputs": [
    {
     "name": "stdin",
     "output_type": "stream",
     "text": [
      "Enter 5 elements in list 1:  1 3 5 7 9\n",
      "Enter 5 elements in list 2:  2 4 6 8 10\n"
     ]
    },
    {
     "name": "stdout",
     "output_type": "stream",
     "text": [
      "List1 converted into array1:  [1 3 5 7 9]\n",
      "List2 converted into array2:  [ 2  4  6  8 10]\n",
      "Concatenation :  [ 1  3  5  7  9  2  4  6  8 10]\n",
      "Sorted array : [ 1  2  3  4  5  6  7  8  9 10]\n"
     ]
    }
   ],
   "source": [
    "l1 = [int(l1) for l1 in input(\"Enter 5 elements in list 1: \").split()]\n",
    "#print(\"Number of list is: \", l1) \n",
    "\n",
    "l2 = [int(l2) for l2 in input(\"Enter 5 elements in list 2: \").split()]\n",
    "#print(\"Number of list is: \", l2) \n",
    "arr1=np.array(l1)\n",
    "arr2=np.array(l2)\n",
    "\n",
    "print(\"List1 converted into array1: \", arr1) \n",
    "print(\"List2 converted into array2: \", arr2) \n",
    "\n",
    "arr3=np.concatenate((arr1,arr2))\n",
    "print(\"Concatenation : \", arr3)\n",
    "print(\"Sorted array :\",np.sort(arr3))"
   ]
  },
  {
   "cell_type": "markdown",
   "metadata": {},
   "source": [
    "# ANSWER 3:"
   ]
  },
  {
   "cell_type": "code",
   "execution_count": 18,
   "metadata": {},
   "outputs": [
    {
     "name": "stdout",
     "output_type": "stream",
     "text": [
      "Number of dimensions:  2\n",
      "Shape of the array:  (2, 3)\n",
      "Size of the array:  6\n"
     ]
    }
   ],
   "source": [
    "arr = np.array( [[ 1, 2, 3],\n",
    "                 [ 4, 2, 5]] )\n",
    " \n",
    "print(\"Number of dimensions: \", arr.ndim)\n",
    " \n",
    "print(\"Shape of the array: \", arr.shape)\n",
    " \n",
    "# Printing size of array\n",
    "print(\"Size of the array: \", arr.size)\n",
    " "
   ]
  },
  {
   "cell_type": "markdown",
   "metadata": {},
   "source": [
    "# ANSWER 4:"
   ]
  },
  {
   "cell_type": "code",
   "execution_count": 30,
   "metadata": {},
   "outputs": [
    {
     "name": "stdout",
     "output_type": "stream",
     "text": [
      "[[1]\n",
      " [2]\n",
      " [3]\n",
      " [4]\n",
      " [5]]\n"
     ]
    }
   ],
   "source": [
    "x1 = np.array([1, 2, 3, 4, 5])\n",
    "x2 = np.array([5, 4, 3])\n",
    "x1_new = x1[:, np.newaxis]\n",
    "x3= x1_new+x2\n",
    "print(x1_new)    "
   ]
  },
  {
   "cell_type": "code",
   "execution_count": 33,
   "metadata": {},
   "outputs": [
    {
     "data": {
      "text/plain": [
       "array([[ 1.,  2.,  3.],\n",
       "       [11., 12., 13.],\n",
       "       [21., 22., 23.],\n",
       "       [31., 32., 33.]])"
      ]
     },
     "execution_count": 33,
     "metadata": {},
     "output_type": "execute_result"
    }
   ],
   "source": [
    "a = np.array([0.0, 10.0, 20.0, 30.0])\n",
    "b = np.array([1.0, 2.0, 3.0])\n",
    "x= a[:, np.newaxis] + b\n",
    "x"
   ]
  },
  {
   "cell_type": "markdown",
   "metadata": {},
   "source": [
    "# ANSWER 5:"
   ]
  },
  {
   "cell_type": "code",
   "execution_count": 37,
   "metadata": {},
   "outputs": [
    {
     "name": "stdout",
     "output_type": "stream",
     "text": [
      "1st Input array : \n",
      " [[ 1  2  3]\n",
      " [-1 -2 -3]\n",
      " [ 4  5  6]]\n",
      "2nd Input array : \n",
      " [[ 4  5  6]\n",
      " [-4 -5 -6]\n",
      " [ 7  8  9]]\n",
      "Output Horizontal stacked array :\n",
      " [[ 1  2  3  4  5  6]\n",
      " [-1 -2 -3 -4 -5 -6]\n",
      " [ 4  5  6  7  8  9]]\n",
      "Output Vertical stacked array :\n",
      " [[ 1  2  3]\n",
      " [-1 -2 -3]\n",
      " [ 4  5  6]\n",
      " [ 4  5  6]\n",
      " [-4 -5 -6]\n",
      " [ 7  8  9]]\n"
     ]
    }
   ],
   "source": [
    "in_arr1 = np.array([[ 1, 2, 3], [ -1, -2, -3],[ 4, 5, 6]] ) \n",
    "print (\"1st Input array : \\n\", in_arr1)  \n",
    "  \n",
    "in_arr2 = np.array([[ 4, 5, 6], [ -4, -5, -6],[ 7, 8, 9]] ) \n",
    "print (\"2nd Input array : \\n\", in_arr2)  \n",
    "  \n",
    "out_arr = np.hstack((in_arr1, in_arr2)) \n",
    "print (\"Output Horizontal stacked array :\\n\", out_arr)\n",
    "\n",
    "out_arr = np.vstack((in_arr1, in_arr2)) \n",
    "print (\"Output Vertical stacked array :\\n\", out_arr)"
   ]
  },
  {
   "cell_type": "markdown",
   "metadata": {},
   "source": [
    "# ANSWER 6:"
   ]
  },
  {
   "cell_type": "code",
   "execution_count": 38,
   "metadata": {},
   "outputs": [
    {
     "name": "stdout",
     "output_type": "stream",
     "text": [
      "Uique elements: \n",
      " {1, 2, 3}\n",
      "No. of Unique elements 3\n"
     ]
    }
   ],
   "source": [
    "a_list = [1, 1, 2, 2, 3]\n",
    "a_set = set(a_list)\n",
    "number_of_unique_values = len(a_set)\n",
    "print(\"Uique elements: \\n\", a_set)\n",
    "print(\"No. of Unique elements\",number_of_unique_values)"
   ]
  }
 ],
 "metadata": {
  "kernelspec": {
   "display_name": "Python 3",
   "language": "python",
   "name": "python3"
  },
  "language_info": {
   "codemirror_mode": {
    "name": "ipython",
    "version": 3
   },
   "file_extension": ".py",
   "mimetype": "text/x-python",
   "name": "python",
   "nbconvert_exporter": "python",
   "pygments_lexer": "ipython3",
   "version": "3.8.3"
  }
 },
 "nbformat": 4,
 "nbformat_minor": 4
}
